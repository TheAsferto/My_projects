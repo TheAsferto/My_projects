{
 "cells": [
  {
   "cell_type": "code",
   "execution_count": 7,
   "metadata": {},
   "outputs": [],
   "source": [
    "import numpy as np"
   ]
  },
  {
   "cell_type": "code",
   "execution_count": null,
   "metadata": {},
   "outputs": [],
   "source": []
  },
  {
   "cell_type": "code",
   "execution_count": 8,
   "metadata": {},
   "outputs": [],
   "source": [
    "def get_new_matrix(n):\n",
    "    # A = np.round(np.random.randn(n,n), 2)\n",
    "    # X = np.round(np.random.randn(n), 2)\n",
    "    # B = np.round(np.dot(A, X), 2)\n",
    "    # return A, B, X\n",
    "    A = "
   ]
  },
  {
   "cell_type": "code",
   "execution_count": 9,
   "metadata": {},
   "outputs": [],
   "source": [
    "def get_full_matrix(A, B):\n",
    "    return np.insert(A, np.shape(A)[1], B, axis = 1)"
   ]
  },
  {
   "cell_type": "code",
   "execution_count": 10,
   "metadata": {},
   "outputs": [],
   "source": [
    "def forward(A):\n",
    "    n = np.shape(A)[0]\n",
    "    for i in range(n):\n",
    "        main_index = np.argmax(np.abs(A[i:, i])) + i\n",
    "        C = np.copy(A[i])\n",
    "        A[i] = np.copy(A[main_index])\n",
    "        A[main_index] = np.copy(C)\n",
    "        A[i] /= A[i, i]\n",
    "        for j in range(i+1, n):\n",
    "            A[j] -= A[i]*A[j, i]\n",
    "    return np.round(A, 2)"
   ]
  },
  {
   "cell_type": "code",
   "execution_count": 11,
   "metadata": {},
   "outputs": [],
   "source": [
    "def backward(A):\n",
    "    n = np.shape(A)[0]\n",
    "    for i in range(1, n):                                           \n",
    "        for j in range(1, n):                                       \n",
    "            A[n-i-j] -= A[n-i]*A[n-i-j, n-i]                       \n",
    "    return np.round(A, 2)"
   ]
  },
  {
   "cell_type": "code",
   "execution_count": 12,
   "metadata": {},
   "outputs": [
    {
     "name": "stdout",
     "output_type": "stream",
     "text": [
      "Получена матрица A:\n",
      "[[ 2.19  2.3  -0.31 -0.29]\n",
      " [ 0.    0.14  0.24  0.47]\n",
      " [ 0.02 -0.56  0.93  1.6 ]\n",
      " [ 1.62  0.54  2.07 -0.31]], вектор-столбец B: [1.42 0.82 3.02 5.64] и вектор-столбец X: [1.   0.03 2.04 0.7 ]\n",
      "Присоединённая матрица D:\n",
      "[[ 2.19  2.3  -0.31 -0.29  1.42]\n",
      " [ 0.    0.14  0.24  0.47  0.82]\n",
      " [ 0.02 -0.56  0.93  1.6   3.02]\n",
      " [ 1.62  0.54  2.07 -0.31  5.64]]\n",
      "Прямой проход метода Гаусса:\n",
      "[[ 1.    1.05 -0.14 -0.13  0.65]\n",
      " [-0.    1.   -1.98  0.08 -3.95]\n",
      " [ 0.    0.    1.    0.89  2.66]\n",
      " [ 0.    0.    0.    1.    0.7 ]]\n",
      "Обратный проход метода Гаусса:\n",
      "[[1.   0.   0.   0.   1.01]\n",
      " [0.   1.   0.   0.   0.02]\n",
      " [0.   0.   1.   0.   2.04]\n",
      " [0.   0.   0.   1.   0.7 ]]\n",
      "Сверяем последний столбец матрицы с вектором Х:\n",
      "[1.01 0.02 2.04 0.7 ]\n",
      "[1.   0.03 2.04 0.7 ]\n"
     ]
    }
   ],
   "source": [
    "A, B, X = get_new_matrix(4)\n",
    "print('Получена матрица A:')\n",
    "print(f'{A}, вектор-столбец B: {B} и вектор-столбец X: {X}')\n",
    "D = get_full_matrix(A, B)\n",
    "print('Присоединённая матрица D:')\n",
    "print(D)\n",
    "print('Прямой проход метода Гаусса:')\n",
    "print(forward(D))\n",
    "print('Обратный проход метода Гаусса:')\n",
    "print(backward(D))\n",
    "print('Сверяем последний столбец матрицы с вектором Х:')\n",
    "print(np.round(np.transpose(D[0:, np.shape(D)[1] - 1]), 2))\n",
    "print(X)"
   ]
  }
 ],
 "metadata": {
  "interpreter": {
   "hash": "d668f605e58949f3a25c7d7c0a7c5fbe3b9b1d2610c4c7513da2f117f02958f8"
  },
  "kernelspec": {
   "display_name": "Python 3.9.7 64-bit (windows store)",
   "name": "python3"
  },
  "language_info": {
   "codemirror_mode": {
    "name": "ipython",
    "version": 3
   },
   "file_extension": ".py",
   "mimetype": "text/x-python",
   "name": "python",
   "nbconvert_exporter": "python",
   "pygments_lexer": "ipython3",
   "version": "3.9.9"
  },
  "orig_nbformat": 4
 },
 "nbformat": 4,
 "nbformat_minor": 2
}
